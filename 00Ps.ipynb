{
  "nbformat": 4,
  "nbformat_minor": 0,
  "metadata": {
    "colab": {
      "provenance": []
    },
    "kernelspec": {
      "name": "python3",
      "display_name": "Python 3"
    },
    "language_info": {
      "name": "python"
    }
  },
  "cells": [
    {
      "cell_type": "code",
      "execution_count": null,
      "metadata": {
        "id": "eozWKZ4f2uM4"
      },
      "outputs": [],
      "source": [
        "THEORY QUESTION\n",
        "1\n",
        "OOP is a programming paradigm based on the concept of objects, which encapsulate data (attributes) and behavior (methods).\n",
        "It focuses on modeling real-world entities, improving modularity, reusability, and scalability.\n",
        "\n",
        "2\n",
        "A class is a blueprint or template for creating objects.\n",
        "It defines attributes (variables) and methods (functions) that the objects created from it will have.\n",
        "\n",
        "3\n",
        "An object is an instance of a class.\n",
        "It represents a specific entity created from the class, with its own state (attribute values) and behavior.\n",
        "\n",
        "4\n",
        "Abstraction → Hides implementation details and exposes only essential features (focus on what an object does).\n",
        "\n",
        "Encapsulation → Bundles data and methods together, restricting direct access (focus on how the data is protected).\n",
        "\n",
        "5\n",
        "\"Dunder\" = Double Underscore methods (e.g., __init__, __str__).\n",
        "They are special methods that let objects interact with built-in Python behavior.\n",
        "Example:\n",
        "\n",
        "__init__: Constructor\n",
        "\n",
        "__str__: String representation\n",
        "\n",
        "__len__: Used by len()\n",
        "\n",
        "6\n",
        "Inheritance allows a class (child) to reuse attributes and methods from another class (parent).\n",
        "It promotes code reusability and hierarchical relationships.\n",
        "\n",
        "7\n",
        "Polymorphism = “Many forms.”\n",
        "It allows methods or operators to behave differently based on the object’s class type.\n",
        "Example: The + operator works for numbers (addition) and strings (concatenation).\n",
        "\n",
        "8\n",
        "By making attributes private or protected (_var, __var)\n",
        "\n",
        "By using getter and setter methods (or @property decorator)\n",
        "\n",
        "9\n",
        "The __init__() method.\n",
        "It is automatically called when a new object is created, used to initialize attributes.\n",
        "\n",
        "10\n",
        "Class method (@classmethod) → Takes cls as the first argument, works with class-level data.\n",
        "\n",
        "Static method (@staticmethod) → Does not take self or cls, behaves like a normal function inside a class.\n",
        "\n",
        "11\n",
        "Python does not support true method overloading like Java or C++.\n",
        "Instead, you can achieve it by using default arguments or *args.\n",
        "\n",
        "12\n",
        "When a child class defines a method with the same name as in the parent class, overriding the parent’s version.\n",
        "\n",
        "13\n",
        "@property allows you to define getter/setter methods while accessing attributes like normal variables.\n",
        "It enforces encapsulation without breaking syntax.\n",
        "\n",
        "14\n",
        "Because it provides flexibility and reusability.\n",
        "A single interface can work with different types of objects (Duck Typing in Python).\n",
        "\n",
        "15\n",
        "A class that cannot be instantiated directly.\n",
        "Defined using abc.ABC and @abstractmethod.\n",
        "It provides a base structure for child classes.\n",
        "\n",
        "16\n",
        "Code reusability\n",
        "\n",
        "Modularity\n",
        "\n",
        "Scalability\n",
        "\n",
        "Easier maintenance\n",
        "\n",
        "Real-world modeling\n",
        "\n",
        "17\n",
        "Class variable → Shared by all objects (defined at class level).\n",
        "\n",
        "Instance variable → Unique to each object (defined inside __init__).\n",
        "\n",
        "18\n",
        "When a class inherits from more than one parent class.\n",
        "Python uses Method Resolution Order (MRO) to handle conflicts.\n",
        "\n",
        "19\n",
        "__str__: User-friendly string (for print()).\n",
        "\n",
        "__repr__: Developer-friendly string (for debugg\n",
        "\n",
        "super()ing).\n",
        "\n",
        "20\n",
        "super() is used to call methods from a parent class inside a child class, especially in inheritance.\n",
        "\n",
        "21\n",
        "It is the destructor method.\n",
        "Called when an object is about to be destroyed (used for cleanup, but not commonly relied upon).\n",
        "\n",
        "22\n",
        "@staticmethod → Independent of object and class.\n",
        "\n",
        "@classmethod → Has access to class-level data (cls).\n",
        "\n",
        "23\n",
        "Child classes can override parent methods, and objects of different classes can be treated through a common interface.\n",
        "\n",
        "24\n",
        "When methods return self, allowing multiple method calls in a single line.\n",
        "Example:\n",
        "\n",
        "obj.set_name(\"Partha\").set_age(20).display()\n",
        "\n",
        "25\n",
        "Makes an object callable like a function.\n",
        "Example:\n",
        "\n",
        "class Test:\n",
        "    def __call__(self, x):\n",
        "        return x * x\n",
        "\n",
        "obj = Test()\n",
        "print(obj(5))"
      ]
    },
    {
      "cell_type": "code",
      "source": [
        "#PRACTICAL QUESTION\n",
        "#1\n",
        "class Animal:\n",
        "    def speak(self):\n",
        "        print(\"This animal makes a sound.\")\n",
        "\n",
        "class Dog(Animal):\n",
        "    def speak(self):\n",
        "        print(\"Bark!\")\n",
        "\n",
        "# Test\n",
        "a = Animal()\n",
        "a.speak()\n",
        "d = Dog()\n",
        "d.speak()\n"
      ],
      "metadata": {
        "colab": {
          "base_uri": "https://localhost:8080/"
        },
        "id": "VMTi7Gg15EZ7",
        "outputId": "037daca1-a23f-40e6-d9c6-65042b8550fa"
      },
      "execution_count": 1,
      "outputs": [
        {
          "output_type": "stream",
          "name": "stdout",
          "text": [
            "This animal makes a sound.\n",
            "Bark!\n"
          ]
        }
      ]
    },
    {
      "cell_type": "code",
      "source": [
        "#2\n",
        "from abc import ABC, abstractmethod\n",
        "\n",
        "class Shape(ABC):\n",
        "    @abstractmethod\n",
        "    def area(self):\n",
        "        pass\n",
        "\n",
        "class Circle(Shape):\n",
        "    def __init__(self, radius):\n",
        "        self.radius = radius\n",
        "\n",
        "    def area(self):\n",
        "        return 3.14 * self.radius * self.radius\n",
        "\n",
        "class Rectangle(Shape):\n",
        "    def __init__(self, length, width):\n",
        "        self.length = length\n",
        "        self.width = width\n",
        "\n",
        "    def area(self):\n",
        "        return self.length * self.width\n",
        "\n",
        "# Test\n",
        "c = Circle(5)\n",
        "r = Rectangle(4, 6)\n",
        "print(\"Circle area:\", c.area())\n",
        "print(\"Rectangle area:\", r.area())\n"
      ],
      "metadata": {
        "colab": {
          "base_uri": "https://localhost:8080/"
        },
        "id": "zLv3hEL25sqf",
        "outputId": "d531b8f8-a8fe-472a-c458-4d3ec0c68f89"
      },
      "execution_count": 2,
      "outputs": [
        {
          "output_type": "stream",
          "name": "stdout",
          "text": [
            "Circle area: 78.5\n",
            "Rectangle area: 24\n"
          ]
        }
      ]
    },
    {
      "cell_type": "code",
      "source": [
        "#3\n",
        "class Vehicle:\n",
        "    def __init__(self, type):\n",
        "        self.type = type\n",
        "\n",
        "class Car(Vehicle):\n",
        "    def __init__(self, type, brand):\n",
        "        super().__init__(type)\n",
        "        self.brand = brand\n",
        "\n",
        "class ElectricCar(Car):\n",
        "    def __init__(self, type, brand, battery):\n",
        "        super().__init__(type, brand)\n",
        "        self.battery = battery\n",
        "\n",
        "# Test\n",
        "ec = ElectricCar(\"Four-wheeler\", \"Tesla\", \"100 kWh\")\n",
        "print(f\"Type: {ec.type}, Brand: {ec.brand}, Battery: {ec.battery}\")\n"
      ],
      "metadata": {
        "colab": {
          "base_uri": "https://localhost:8080/"
        },
        "id": "rnW-sDBo5ycl",
        "outputId": "c276759a-2e31-4d1e-823e-b78b8a32a69f"
      },
      "execution_count": 3,
      "outputs": [
        {
          "output_type": "stream",
          "name": "stdout",
          "text": [
            "Type: Four-wheeler, Brand: Tesla, Battery: 100 kWh\n"
          ]
        }
      ]
    },
    {
      "cell_type": "code",
      "source": [
        "#4\n",
        "class Bird:\n",
        "    def fly(self):\n",
        "        print(\"Birds can fly.\")\n",
        "\n",
        "class Sparrow(Bird):\n",
        "    def fly(self):\n",
        "        print(\"Sparrow flies high.\")\n",
        "\n",
        "class Penguin(Bird):\n",
        "    def fly(self):\n",
        "        print(\"Penguins cannot fly.\")\n",
        "\n",
        "# Test\n",
        "for bird in [Sparrow(), Penguin()]:\n",
        "    bird.fly()\n"
      ],
      "metadata": {
        "colab": {
          "base_uri": "https://localhost:8080/"
        },
        "id": "ponYtkd154IG",
        "outputId": "178d742b-7bd2-480d-a9f9-63698c1f82d8"
      },
      "execution_count": 4,
      "outputs": [
        {
          "output_type": "stream",
          "name": "stdout",
          "text": [
            "Sparrow flies high.\n",
            "Penguins cannot fly.\n"
          ]
        }
      ]
    },
    {
      "cell_type": "code",
      "source": [
        "#5\n",
        "class BankAccount:\n",
        "    def __init__(self, balance=0):\n",
        "        self.__balance = balance\n",
        "\n",
        "    def deposit(self, amount):\n",
        "        self.__balance += amount\n",
        "\n",
        "    def withdraw(self, amount):\n",
        "        if amount <= self.__balance:\n",
        "            self.__balance -= amount\n",
        "        else:\n",
        "            print(\"Insufficient balance!\")\n",
        "\n",
        "    def get_balance(self):\n",
        "        return self.__balance\n",
        "\n",
        "# Test\n",
        "acc = BankAccount(100)\n",
        "acc.deposit(50)\n",
        "acc.withdraw(30)\n",
        "print(\"Balance:\", acc.get_balance())\n"
      ],
      "metadata": {
        "colab": {
          "base_uri": "https://localhost:8080/"
        },
        "id": "eN73D-8E6D5p",
        "outputId": "9d93f15f-2800-469b-92b1-062aa1d3582b"
      },
      "execution_count": 5,
      "outputs": [
        {
          "output_type": "stream",
          "name": "stdout",
          "text": [
            "Balance: 120\n"
          ]
        }
      ]
    },
    {
      "cell_type": "code",
      "source": [
        "#6\n",
        "class Instrument:\n",
        "    def play(self):\n",
        "        print(\"Playing an instrument.\")\n",
        "\n",
        "class Guitar(Instrument):\n",
        "    def play(self):\n",
        "        print(\"Strumming the guitar.\")\n",
        "\n",
        "class Piano(Instrument):\n",
        "    def play(self):\n",
        "        print(\"Playing the piano.\")\n",
        "\n",
        "# Test\n",
        "for inst in [Guitar(), Piano()]:\n",
        "    inst.play()\n"
      ],
      "metadata": {
        "colab": {
          "base_uri": "https://localhost:8080/"
        },
        "id": "A_qD2xcP6L5z",
        "outputId": "602d0c41-d706-46ac-fcff-edc5230d0139"
      },
      "execution_count": 6,
      "outputs": [
        {
          "output_type": "stream",
          "name": "stdout",
          "text": [
            "Strumming the guitar.\n",
            "Playing the piano.\n"
          ]
        }
      ]
    },
    {
      "cell_type": "code",
      "source": [
        "#7\n",
        "class MathOperations:\n",
        "    @classmethod\n",
        "    def add_numbers(cls, a, b):\n",
        "        return a + b\n",
        "\n",
        "    @staticmethod\n",
        "    def subtract_numbers(a, b):\n",
        "        return a - b\n",
        "\n",
        "# Test\n",
        "print(\"Addition:\", MathOperations.add_numbers(5, 3))\n",
        "print(\"Subtraction:\", MathOperations.subtract_numbers(5, 3))\n"
      ],
      "metadata": {
        "colab": {
          "base_uri": "https://localhost:8080/"
        },
        "id": "_dOACEwW6W4W",
        "outputId": "df257fde-4db7-4998-dd85-0ec94074da4c"
      },
      "execution_count": 8,
      "outputs": [
        {
          "output_type": "stream",
          "name": "stdout",
          "text": [
            "Addition: 8\n",
            "Subtraction: 2\n"
          ]
        }
      ]
    },
    {
      "cell_type": "code",
      "source": [
        "#8\n",
        "class Person:\n",
        "    count = 0\n",
        "\n",
        "    def __init__(self, name):\n",
        "        self.name = name\n",
        "        Person.count += 1\n",
        "\n",
        "    @classmethod\n",
        "    def total_persons(cls):\n",
        "        return cls.count\n",
        "\n",
        "# Test\n",
        "p1 = Person(\"Alice\")\n",
        "p2 = Person(\"Bob\")\n",
        "print(\"Total persons:\", Person.total_persons())\n",
        "\n"
      ],
      "metadata": {
        "colab": {
          "base_uri": "https://localhost:8080/"
        },
        "id": "1gXVN4zA6bpE",
        "outputId": "bb447548-9db5-4b15-d14e-a655372af9ab"
      },
      "execution_count": 9,
      "outputs": [
        {
          "output_type": "stream",
          "name": "stdout",
          "text": [
            "Total persons: 2\n"
          ]
        }
      ]
    },
    {
      "cell_type": "code",
      "source": [
        "#9\n",
        "class Fraction:\n",
        "    def __init__(self, numerator, denominator):\n",
        "        self.numerator = numerator\n",
        "        self.denominator = denominator\n",
        "\n",
        "    def __str__(self):\n",
        "        return f\"{self.numerator}/{self.denominator}\"\n",
        "\n",
        "# Test\n",
        "f = Fraction(3, 4)\n",
        "print(f)\n"
      ],
      "metadata": {
        "colab": {
          "base_uri": "https://localhost:8080/"
        },
        "id": "NN351XLE6kmN",
        "outputId": "2e7e006d-68d9-4d43-ed8d-d6a47ab57f3c"
      },
      "execution_count": 10,
      "outputs": [
        {
          "output_type": "stream",
          "name": "stdout",
          "text": [
            "3/4\n"
          ]
        }
      ]
    },
    {
      "cell_type": "code",
      "source": [
        "#10\n",
        "class Vector:\n",
        "    def __init__(self, x, y):\n",
        "        self.x = x\n",
        "        self.y = y\n",
        "\n",
        "    def __add__(self, other):\n",
        "        return Vector(self.x + other.x, self.y + other.y)\n",
        "\n",
        "    def __str__(self):\n",
        "        return f\"Vector({self.x}, {self.y})\"\n",
        "\n",
        "# Test\n",
        "v1 = Vector(2, 3)\n",
        "v2 = Vector(4, 5)\n",
        "print(v1 + v2)\n"
      ],
      "metadata": {
        "colab": {
          "base_uri": "https://localhost:8080/"
        },
        "id": "flrHAkvU6prr",
        "outputId": "c82511b4-39cb-4c42-fa06-f36e7898733a"
      },
      "execution_count": 11,
      "outputs": [
        {
          "output_type": "stream",
          "name": "stdout",
          "text": [
            "Vector(6, 8)\n"
          ]
        }
      ]
    },
    {
      "cell_type": "code",
      "source": [
        "#11\n",
        "class Person:\n",
        "    def __init__(self, name, age):\n",
        "        self.name = name\n",
        "        self.age = age\n",
        "\n",
        "    def greet(self):\n",
        "        print(f\"Hello, my name is {self.name} and I am {self.age} years old.\")\n",
        "\n",
        "# Test\n",
        "p = Person(\"John\", 25)\n",
        "p.greet()\n"
      ],
      "metadata": {
        "colab": {
          "base_uri": "https://localhost:8080/"
        },
        "id": "7a34OmXu64UF",
        "outputId": "08b6a7af-bcd7-4e86-dd2d-04b2812960ab"
      },
      "execution_count": 12,
      "outputs": [
        {
          "output_type": "stream",
          "name": "stdout",
          "text": [
            "Hello, my name is John and I am 25 years old.\n"
          ]
        }
      ]
    },
    {
      "cell_type": "code",
      "source": [
        "#12\n",
        "class Student:\n",
        "    def __init__(self, name, grades):\n",
        "        self.name = name\n",
        "        self.grades = grades\n",
        "\n",
        "    def average_grade(self):\n",
        "        return sum(self.grades) / len(self.grades)\n",
        "\n",
        "# Test\n",
        "s = Student(\"Alice\", [85, 90, 95])\n",
        "print(\"Average grade:\", s.average_grade())\n"
      ],
      "metadata": {
        "colab": {
          "base_uri": "https://localhost:8080/"
        },
        "id": "t5hrODJ667Bq",
        "outputId": "af287e4d-05f9-4c46-d851-02190f696d84"
      },
      "execution_count": 13,
      "outputs": [
        {
          "output_type": "stream",
          "name": "stdout",
          "text": [
            "Average grade: 90.0\n"
          ]
        }
      ]
    },
    {
      "cell_type": "code",
      "source": [
        "#13\n",
        "class Rectangle:\n",
        "    def set_dimensions(self, length, width):\n",
        "        self.length = length\n",
        "        self.width = width\n",
        "\n",
        "    def area(self):\n",
        "        return self.length * self.width\n",
        "\n",
        "# Test\n",
        "r = Rectangle()\n",
        "r.set_dimensions(5, 3)\n",
        "print(\"Area:\", r.area())\n"
      ],
      "metadata": {
        "colab": {
          "base_uri": "https://localhost:8080/"
        },
        "id": "bFpBwPQz7Auh",
        "outputId": "9d6ac8ec-18ff-4b3a-aad5-71e2ed145b0b"
      },
      "execution_count": 14,
      "outputs": [
        {
          "output_type": "stream",
          "name": "stdout",
          "text": [
            "Area: 15\n"
          ]
        }
      ]
    },
    {
      "cell_type": "code",
      "source": [
        "#14\n",
        "class Employee:\n",
        "    def __init__(self, hours, rate):\n",
        "        self.hours = hours\n",
        "        self.rate = rate\n",
        "\n",
        "    def calculate_salary(self):\n",
        "        return self.hours * self.rate\n",
        "\n",
        "class Manager(Employee):\n",
        "    def __init__(self, hours, rate, bonus):\n",
        "        super().__init__(hours, rate)\n",
        "        self.bonus = bonus\n",
        "\n",
        "    def calculate_salary(self):\n",
        "        return super().calculate_salary() + self.bonus\n",
        "\n",
        "# Test\n",
        "e = Employee(40, 20)\n",
        "m = Manager(40, 30, 500)\n",
        "print(\"Employee Salary:\", e.calculate_salary())\n",
        "print(\"Manager Salary:\", m.calculate_salary())\n"
      ],
      "metadata": {
        "colab": {
          "base_uri": "https://localhost:8080/"
        },
        "id": "uemfAfM97HVt",
        "outputId": "325133c5-c6dc-4b62-8b8a-642c6e8d0085"
      },
      "execution_count": 15,
      "outputs": [
        {
          "output_type": "stream",
          "name": "stdout",
          "text": [
            "Employee Salary: 800\n",
            "Manager Salary: 1700\n"
          ]
        }
      ]
    },
    {
      "cell_type": "code",
      "source": [
        "#15\n",
        "class Product:\n",
        "    def __init__(self, name, price, quantity):\n",
        "        self.name = name\n",
        "        self.price = price\n",
        "        self.quantity = quantity\n",
        "\n",
        "    def total_price(self):\n",
        "        return self.price * self.quantity\n",
        "\n",
        "# Test\n",
        "p = Product(\"Laptop\", 60000, 2)\n",
        "print(f\"Product: {p.name}, Total Price: {p.total_price()}\")\n"
      ],
      "metadata": {
        "colab": {
          "base_uri": "https://localhost:8080/"
        },
        "id": "Y29ngD797YYN",
        "outputId": "60109f7b-1c73-4d91-a4bc-cb0a5b17788c"
      },
      "execution_count": 16,
      "outputs": [
        {
          "output_type": "stream",
          "name": "stdout",
          "text": [
            "Product: Laptop, Total Price: 120000\n"
          ]
        }
      ]
    },
    {
      "cell_type": "code",
      "source": [
        "#16\n",
        "from abc import ABC, abstractmethod\n",
        "\n",
        "class Animal(ABC):\n",
        "    @abstractmethod\n",
        "    def sound(self):\n",
        "        pass\n",
        "\n",
        "class Cow(Animal):\n",
        "    def sound(self):\n",
        "        return \"Moo\"\n",
        "\n",
        "class Sheep(Animal):\n",
        "    def sound(self):\n",
        "        return \"Baa\"\n",
        "\n",
        "# Test\n",
        "c = Cow()\n",
        "s = Sheep()\n",
        "print(\"Cow sound:\", c.sound())\n",
        "print(\"Sheep sound:\", s.sound())\n"
      ],
      "metadata": {
        "colab": {
          "base_uri": "https://localhost:8080/"
        },
        "id": "-0LjUbQn7dJ8",
        "outputId": "cc15b8cd-14bf-4ff6-fb45-61b4720b833f"
      },
      "execution_count": 17,
      "outputs": [
        {
          "output_type": "stream",
          "name": "stdout",
          "text": [
            "Cow sound: Moo\n",
            "Sheep sound: Baa\n"
          ]
        }
      ]
    },
    {
      "cell_type": "code",
      "source": [
        "#17\n",
        "class Book:\n",
        "    def __init__(self, title, author, year_published):\n",
        "        self.title = title\n",
        "        self.author = author\n",
        "        self.year_published = year_published\n",
        "\n",
        "    def get_book_info(self):\n",
        "        return f\"'{self.title}' by {self.author}, published in {self.year_published}\"\n",
        "\n",
        "# Test\n",
        "b = Book(\"The Great Gatsby\", \"F. Scott Fitzgerald\", 1925)\n",
        "print(b.get_book_info())\n"
      ],
      "metadata": {
        "colab": {
          "base_uri": "https://localhost:8080/"
        },
        "id": "0wCwf6xk7jEh",
        "outputId": "398aa280-7a87-4447-9b2b-e858ff5f0755"
      },
      "execution_count": 18,
      "outputs": [
        {
          "output_type": "stream",
          "name": "stdout",
          "text": [
            "'The Great Gatsby' by F. Scott Fitzgerald, published in 1925\n"
          ]
        }
      ]
    },
    {
      "cell_type": "code",
      "source": [
        "#18\n",
        "class House:\n",
        "    def __init__(self, address, price):\n",
        "        self.address = address\n",
        "        self.price = price\n",
        "\n",
        "class Mansion(House):\n",
        "    def __init__(self, address, price, number_of_rooms):\n",
        "        super().__init__(address, price)\n",
        "        self.number_of_rooms = number_of_rooms\n",
        "\n",
        "# Test\n",
        "m = Mansion(\"123 Luxury St.\", 5000000, 12)\n",
        "print(f\"Address: {m.address}, Price: {m.price}, Rooms: {m.number_of_rooms}\")\n"
      ],
      "metadata": {
        "colab": {
          "base_uri": "https://localhost:8080/"
        },
        "id": "lCb8X1nz7oaY",
        "outputId": "3fb35684-6e06-4b0b-b5e8-b41de511a3eb"
      },
      "execution_count": 19,
      "outputs": [
        {
          "output_type": "stream",
          "name": "stdout",
          "text": [
            "Address: 123 Luxury St., Price: 5000000, Rooms: 12\n"
          ]
        }
      ]
    }
  ]
}